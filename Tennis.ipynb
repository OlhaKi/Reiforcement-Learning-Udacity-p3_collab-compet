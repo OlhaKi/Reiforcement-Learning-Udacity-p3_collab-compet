{
 "cells": [
  {
   "cell_type": "markdown",
   "metadata": {},
   "source": [
    "# Collaboration and Competition (ver. 23/03/2021)\n",
    "\n",
    "---\n",
    "\n",
    "In this notebook, you will learn how to use the Unity ML-Agents environment for the third project of the [Deep Reinforcement Learning Nanodegree](https://www.udacity.com/course/deep-reinforcement-learning-nanodegree--nd893) program.\n",
    "\n",
    "### 1. Start the Environment\n",
    "\n",
    "We begin by importing the necessary packages.  If the code cell below returns an error, please revisit the project instructions to double-check that you have installed [Unity ML-Agents](https://github.com/Unity-Technologies/ml-agents/blob/master/docs/Installation.md) and [NumPy](http://www.numpy.org/)."
   ]
  },
  {
   "cell_type": "code",
   "execution_count": 1,
   "metadata": {},
   "outputs": [],
   "source": [
    "from unityagents import UnityEnvironment\n",
    "import numpy as np"
   ]
  },
  {
   "cell_type": "markdown",
   "metadata": {},
   "source": [
    "Next, we will start the environment!  **_Before running the code cell below_**, change the `file_name` parameter to match the location of the Unity environment that you downloaded.\n",
    "\n",
    "- **Mac**: `\"path/to/Tennis.app\"`\n",
    "- **Windows** (x86): `\"path/to/Tennis_Windows_x86/Tennis.exe\"`\n",
    "- **Windows** (x86_64): `\"path/to/Tennis_Windows_x86_64/Tennis.exe\"`\n",
    "- **Linux** (x86): `\"path/to/Tennis_Linux/Tennis.x86\"`\n",
    "- **Linux** (x86_64): `\"path/to/Tennis_Linux/Tennis.x86_64\"`\n",
    "- **Linux** (x86, headless): `\"path/to/Tennis_Linux_NoVis/Tennis.x86\"`\n",
    "- **Linux** (x86_64, headless): `\"path/to/Tennis_Linux_NoVis/Tennis.x86_64\"`\n",
    "\n",
    "For instance, if you are using a Mac, then you downloaded `Tennis.app`.  If this file is in the same folder as the notebook, then the line below should appear as follows:\n",
    "```\n",
    "env = UnityEnvironment(file_name=\"Tennis.app\")\n",
    "```"
   ]
  },
  {
   "cell_type": "code",
   "execution_count": 2,
   "metadata": {},
   "outputs": [
    {
     "name": "stderr",
     "output_type": "stream",
     "text": [
      "INFO:unityagents:\n",
      "'Academy' started successfully!\n",
      "Unity Academy name: Academy\n",
      "        Number of Brains: 1\n",
      "        Number of External Brains : 1\n",
      "        Lesson number : 0\n",
      "        Reset Parameters :\n",
      "\t\t\n",
      "Unity brain name: TennisBrain\n",
      "        Number of Visual Observations (per agent): 0\n",
      "        Vector Observation space type: continuous\n",
      "        Vector Observation space size (per agent): 8\n",
      "        Number of stacked Vector Observation: 3\n",
      "        Vector Action space type: continuous\n",
      "        Vector Action space size (per agent): 2\n",
      "        Vector Action descriptions: , \n"
     ]
    }
   ],
   "source": [
    "env = UnityEnvironment(file_name=\"Tennis_Windows_x86_64/Tennis.exe\")"
   ]
  },
  {
   "cell_type": "markdown",
   "metadata": {},
   "source": [
    "Environments contain **_brains_** which are responsible for deciding the actions of their associated agents. Here we check for the first brain available, and set it as the default brain we will be controlling from Python."
   ]
  },
  {
   "cell_type": "code",
   "execution_count": 3,
   "metadata": {},
   "outputs": [],
   "source": [
    "# get the default brain\n",
    "brain_name = env.brain_names[0]\n",
    "brain = env.brains[brain_name]"
   ]
  },
  {
   "cell_type": "markdown",
   "metadata": {},
   "source": [
    "### 2. Examine the State and Action Spaces\n",
    "\n",
    "In this environment, two agents control rackets to bounce a ball over a net. If an agent hits the ball over the net, it receives a reward of +0.1.  If an agent lets a ball hit the ground or hits the ball out of bounds, it receives a reward of -0.01.  Thus, the goal of each agent is to keep the ball in play.\n",
    "\n",
    "The observation space consists of 8 variables corresponding to the position and velocity of the ball and racket. Two continuous actions are available, corresponding to movement toward (or away from) the net, and jumping. \n",
    "\n",
    "Run the code cell below to print some information about the environment."
   ]
  },
  {
   "cell_type": "code",
   "execution_count": 4,
   "metadata": {},
   "outputs": [
    {
     "name": "stdout",
     "output_type": "stream",
     "text": [
      "Number of agents: 2\n",
      "Size of each action: 2\n",
      "There are 2 agents. Each observes a state with length: 24\n",
      "The state for the first agent looks like: [ 0.          0.          0.          0.          0.          0.\n",
      "  0.          0.          0.          0.          0.          0.\n",
      "  0.          0.          0.          0.         -6.65278625 -1.5\n",
      " -0.          0.          6.83172083  6.         -0.          0.        ]\n"
     ]
    }
   ],
   "source": [
    "# reset the environment\n",
    "env_info = env.reset(train_mode=True)[brain_name]\n",
    "\n",
    "# number of agents \n",
    "num_agents = len(env_info.agents)\n",
    "print('Number of agents:', num_agents)\n",
    "\n",
    "# size of each action\n",
    "action_size = brain.vector_action_space_size\n",
    "print('Size of each action:', action_size)\n",
    "\n",
    "# examine the state space \n",
    "states = env_info.vector_observations\n",
    "state_size = states.shape[1]\n",
    "print('There are {} agents. Each observes a state with length: {}'.format(states.shape[0], state_size))\n",
    "print('The state for the first agent looks like:', states[0])"
   ]
  },
  {
   "cell_type": "markdown",
   "metadata": {},
   "source": [
    "### 3. Take Random Actions in the Environment\n",
    "\n",
    "In the next code cell, you will learn how to use the Python API to control the agents and receive feedback from the environment.\n",
    "\n",
    "Once this cell is executed, you will watch the agents' performance, if they select actions at random with each time step.  A window should pop up that allows you to observe the agents.\n",
    "\n",
    "Of course, as part of the project, you'll have to change the code so that the agents are able to use their experiences to gradually choose better actions when interacting with the environment!"
   ]
  },
  {
   "cell_type": "code",
   "execution_count": 5,
   "metadata": {},
   "outputs": [
    {
     "name": "stdout",
     "output_type": "stream",
     "text": [
      "Score (max) from episode 1: 0.10000000149011612\n",
      "Score (max) from episode 2: 0.0\n",
      "Score (max) from episode 3: 0.09000000171363354\n",
      "Score (max) from episode 4: 0.0\n",
      "Score (max) from episode 5: 0.0\n"
     ]
    }
   ],
   "source": [
    "for i in range(1, 6):                                      # play game for 5 episodes\n",
    "    env_info = env.reset(train_mode=False)[brain_name]     # reset the environment    \n",
    "    states = env_info.vector_observations                  # get the current state (for each agent)\n",
    "    scores = np.zeros(num_agents)                          # initialize the score (for each agent)\n",
    "    while True:\n",
    "        actions = np.random.randn(num_agents, action_size) # select an action (for each agent)\n",
    "        actions = np.clip(actions, -1, 1)                  # all actions between -1 and 1\n",
    "        env_info = env.step(actions)[brain_name]           # send all actions to tne environment\n",
    "        next_states = env_info.vector_observations         # get next state (for each agent)\n",
    "        rewards = env_info.rewards                         # get reward (for each agent)\n",
    "        dones = env_info.local_done                        # see if episode finished\n",
    "        scores += env_info.rewards                         # update the score (for each agent)\n",
    "        states = next_states                               # roll over states to next time step\n",
    "        if np.any(dones):                                  # exit loop if episode finished\n",
    "            break\n",
    "    print('Score (max) from episode {}: {}'.format(i, np.max(scores)))"
   ]
  },
  {
   "cell_type": "markdown",
   "metadata": {},
   "source": [
    "When finished, you can close the environment."
   ]
  },
  {
   "cell_type": "code",
   "execution_count": 6,
   "metadata": {},
   "outputs": [],
   "source": [
    "# Don't close the environment to use it for next experiments\n",
    "# After close, it is impossible to reload environment on this Unity version.\n",
    "#env.close()"
   ]
  },
  {
   "cell_type": "markdown",
   "metadata": {},
   "source": [
    "### 4. Build an MADDGP model.\n"
   ]
  },
  {
   "cell_type": "code",
   "execution_count": 7,
   "metadata": {},
   "outputs": [],
   "source": [
    "import time\n",
    "import torch\n",
    "import numpy as np\n",
    "from collections import deque\n",
    "import matplotlib.pyplot as plt\n",
    "%matplotlib inline\n",
    "\n",
    "plt.style.use('bmh')\n",
    "np.set_printoptions(precision=3, linewidth=120)"
   ]
  },
  {
   "cell_type": "code",
   "execution_count": 8,
   "metadata": {},
   "outputs": [
    {
     "name": "stdout",
     "output_type": "stream",
     "text": [
      "Device = cpu\n"
     ]
    }
   ],
   "source": [
    "torch_device = torch.device('cpu')\n",
    "print('Device =', torch_device)"
   ]
  },
  {
   "cell_type": "markdown",
   "metadata": {},
   "source": [
    "#### Define training model method "
   ]
  },
  {
   "cell_type": "code",
   "execution_count": 9,
   "metadata": {},
   "outputs": [],
   "source": [
    "def train(n_episodes = 5000, max_t = 5000, agents = None, filenames = None,\n",
    "          benchmark_score = 5, rolling_episodes = 10):\n",
    "    \"\"\"Deep Q-Learning.\n",
    "    \n",
    "    Params\n",
    "    ======\n",
    "        n_episodes (int) - maximum number of training episodes\n",
    "        max_t (int) -  maximum number of timesteps per episode (should be over 1000)\n",
    "        agents (obj) - training agent instances\n",
    "        filenames (list) - string of filenames to store weights of actor and critic\n",
    "        benchmark_score (int) - the score of agent should be over this score\n",
    "        rolling_episodes (int) - the score is checked whenever number of tries reachs to this\n",
    "    \"\"\"\n",
    "    #start_time = time.time()\n",
    "    local_time = time.ctime(time.time())    \n",
    "    print('\\nStart training:\\t {}'.format(local_time))\n",
    "            \n",
    "    all_scores = []                                   \n",
    "    scores_window = deque(maxlen = rolling_episodes) \n",
    "    avg_checked = False\n",
    "    max_score = -1\n",
    "    \n",
    "    for i_episode in range(1, n_episodes + 1):\n",
    "        env_info = env.reset(train_mode=True)[brain_name]  \n",
    "        states = env_info.vector_observations              \n",
    "        scores = np.zeros(len(agents))                     \n",
    "\n",
    "        for agent in agents:                               \n",
    "            agent.reset()\n",
    "\n",
    "        for t in range(max_t):\n",
    "            actions = [agent.act(states[i]) for i, agent in enumerate(agents)]  # select actions\n",
    "            env_info = env.step(actions)[brain_name]       # send the action to the environment\n",
    "            next_states = env_info.vector_observations     # get the next state\n",
    "            rewards = env_info.rewards                     # get the reward\n",
    "            dones = env_info.local_done                    # see if episode has finished\n",
    "\n",
    "            for i, agent in enumerate(agents):\n",
    "                agent.step(states[i], actions[i], rewards[i], next_states[i], dones[i])\n",
    "            \n",
    "            states = next_states                           \n",
    "            scores += rewards                              \n",
    "            if np.any(dones):                              \n",
    "                break\n",
    "\n",
    "        cur_score = np.max(scores)                         \n",
    "        scores_window.append(cur_score)                    \n",
    "        all_scores.append(cur_score)                       \n",
    "        avg_scores_window = np.mean(scores_window)         \n",
    "\n",
    "        if cur_score > max_score and cur_score > 2.0:\n",
    "            max_score = cur_score\n",
    "            if filenames:\n",
    "                agent.store_critic_weights(filenames[1] + '.pth')\n",
    "                \n",
    "                for i, agent in enumerate(agents):\n",
    "                    agent.store_actor_weights(filenames[0] + str(i) + '.pth')\n",
    "\n",
    "        print('\\rEpisode {}\\tAverage Score: {:.5f}\\tScore: {:.5f}'.format(i_episode, avg_scores_window, cur_score), end=\"\")\n",
    "        \n",
    "        if i_episode % rolling_episodes == 0:\n",
    "            print('\\rEpisode {}\\tAverage Score: {:.5f}                '.format(i_episode, avg_scores_window))\n",
    "        \n",
    "        if not avg_checked and avg_scores_window >= benchmark_score:\n",
    "            print('\\nEnvironment solved in {:d} episodes!\\tAverage Score: {:.5f}'.format(\n",
    "                  i_episode, avg_scores_window))\n",
    "                  #i_episode - rolling_episodes, avg_scores_window))\n",
    "            #print('\\nTraining time = {:.5f}s'.format(time.time() - start_time))\n",
    "            local_time = time.ctime(time.time())          \n",
    "            print('\\nTraining end time:\\t {}'.format(local_time))\n",
    "\n",
    "            \n",
    "            return all_scores\n",
    "            \n",
    "\n",
    "    #print('\\nTraining time = {:.5f}s'.format(time.time() - start_time))\n",
    "    local_time = time.ctime(time.time())          \n",
    "    print('\\nTraining end time:\\t {}'.format(local_time))\n",
    "\n",
    "    return all_scores"
   ]
  },
  {
   "cell_type": "markdown",
   "metadata": {},
   "source": [
    "#### Plot the learning curves for scores vs episodes"
   ]
  },
  {
   "cell_type": "code",
   "execution_count": 10,
   "metadata": {},
   "outputs": [],
   "source": [
    "import pandas as pd\n",
    "\n",
    "def plot_scores(scores, benchmark_score, rolling_n_episodes):\n",
    "    # plot the scores\n",
    "    fig = plt.figure()\n",
    "    ax = fig.add_subplot(111)\n",
    "\n",
    "    plt.plot(np.arange(len(scores)), scores, color ='green', label = 'MA DDPG')\n",
    "    plt.ylabel('Score')\n",
    "    plt.xlabel('Episode #')\n",
    "    plt.title('Scores vs. episodes')    \n",
    "    plt.legend(loc='upper left')\n",
    "    ax.axhline(benchmark_score, c=\"red\", alpha=0.5)\n",
    "    \n",
    "    rolling_window = rolling_n_episodes\n",
    "    rolling_mean = pd.Series(scores).rolling(rolling_window).mean()\n",
    "    plt.plot(rolling_mean, c='cyan', alpha=0.7)\n",
    "    \n",
    "    plt.show()"
   ]
  },
  {
   "cell_type": "markdown",
   "metadata": {},
   "source": [
    "#### Create replay buffer with hyper-parameters"
   ]
  },
  {
   "cell_type": "code",
   "execution_count": 11,
   "metadata": {},
   "outputs": [],
   "source": [
    "from agent_ma import ReplayBuffer\n",
    "\n",
    "memory_parameters = {\n",
    "    # replay buffer size\n",
    "    'buffer_size': int(1e6),        \n",
    "    # minibatch size\n",
    "    'batch_size': 128,              \n",
    "    # Seed to generate random numbers\n",
    "    'seed': 0,                      \n",
    "}\n",
    "\n",
    "memory = ReplayBuffer(action_size, memory_parameters['buffer_size'],\n",
    "                      memory_parameters['batch_size'], memory_parameters['seed'], torch_device)"
   ]
  },
  {
   "cell_type": "markdown",
   "metadata": {},
   "source": [
    "#### Method for testing my model."
   ]
  },
  {
   "cell_type": "code",
   "execution_count": 12,
   "metadata": {},
   "outputs": [],
   "source": [
    "def test(agents, max_t=5000):\n",
    "    \n",
    "    env_info = env.reset(train_mode=False)[brain_name] \n",
    "    states = env_info.vector_observations        \n",
    "    scores = np.zeros(len(agents))\n",
    "\n",
    "    for t_ in range(max_t):\n",
    "        # select actions\n",
    "        actions = [agent.act(states[i], add_noise=False) for i, agent in enumerate(agents)]\n",
    "        env_info = env.step(actions)[brain_name]       \n",
    "        rewards = env_info.rewards                     \n",
    "        dones = env_info.local_done                    \n",
    "        states = env_info.vector_observations          \n",
    "        scores += rewards                              \n",
    "        if np.any(dones):                              \n",
    "            break\n",
    "    \n",
    "    print('Score(max): {:.5f}'.format(np.max(scores)))"
   ]
  },
  {
   "cell_type": "markdown",
   "metadata": {},
   "source": [
    "#### Set hyper-parameters"
   ]
  },
  {
   "cell_type": "code",
   "execution_count": 13,
   "metadata": {},
   "outputs": [],
   "source": [
    "parameters = {\n",
    "    # roll over the state to next time step\n",
    "    'actor_units': [512, 256],    \n",
    "    # roll over the state to next time step\n",
    "    'critic_units': [512, 256],         \n",
    "    # roll over the state to next time step\n",
    "    'lr_actor': 7e-4,    \n",
    "    # learning rate of the Critic\n",
    "    'lr_critic': 3e-3,                  \n",
    "    \n",
    "    # discount factor\n",
    "    'gamma': 0.99,                      \n",
    "    \n",
    "    # for soft update of target parameters\n",
    "    'tau': 0.15, \n",
    "    # update parameters per this number\n",
    "    'update_every': 1,                  \n",
    "    \n",
    "    # update parameters per this number\n",
    "    'seed': 0,  \n",
    "    # update parameters per this number\n",
    "    'weight_decay': 0,                  \n",
    "    \n",
    "    # Ornstein-Uhlenbeck process\n",
    "    'noise_theta': 0.15,                \n",
    "    'noise_sigma': 0.01,                \n",
    "}"
   ]
  },
  {
   "cell_type": "markdown",
   "metadata": {},
   "source": [
    "#### Set plot parameters and filenames"
   ]
  },
  {
   "cell_type": "code",
   "execution_count": 14,
   "metadata": {},
   "outputs": [],
   "source": [
    "rolling_episodes = 100     \n",
    "benchmark_score = 0.5      "
   ]
  },
  {
   "cell_type": "code",
   "execution_count": 15,
   "metadata": {},
   "outputs": [],
   "source": [
    "# Filenames of weights of Actor/Critic\n",
    "actor_file_name = 'weights_actor'\n",
    "critic_file_name = 'weights_critic'"
   ]
  },
  {
   "cell_type": "markdown",
   "metadata": {},
   "source": [
    "#### Create agents:"
   ]
  },
  {
   "cell_type": "code",
   "execution_count": 16,
   "metadata": {},
   "outputs": [
    {
     "name": "stdout",
     "output_type": "stream",
     "text": [
      "Agent\n",
      "       actor_units [512, 256]\n",
      "       critic_units [512, 256]\n",
      "       lr_actor 0.0007\n",
      "       lr_critic 0.003\n",
      "       gamma 0.99\n",
      "       tau 0.15\n",
      "       update_every 1\n",
      "       seed 0\n",
      "       weight_decay 0\n",
      "       noise_theta 0.15\n",
      "       noise_sigma 0.01\n",
      "==========\n",
      "Agent\n",
      "       actor_units [512, 256]\n",
      "       critic_units [512, 256]\n",
      "       lr_actor 0.0007\n",
      "       lr_critic 0.003\n",
      "       gamma 0.99\n",
      "       tau 0.15\n",
      "       update_every 1\n",
      "       seed 0\n",
      "       weight_decay 0\n",
      "       noise_theta 0.15\n",
      "       noise_sigma 0.01\n",
      "==========\n"
     ]
    }
   ],
   "source": [
    "from agent_ma import Agent\n",
    "\n",
    "agents = [Agent(state_size, action_size, memory, torch_device, parameters)\n",
    "                 for _ in range(num_agents)]"
   ]
  },
  {
   "cell_type": "markdown",
   "metadata": {},
   "source": [
    "### Training"
   ]
  },
  {
   "cell_type": "code",
   "execution_count": 17,
   "metadata": {
    "scrolled": true
   },
   "outputs": [
    {
     "name": "stdout",
     "output_type": "stream",
     "text": [
      "\n",
      "Start training:\t Mon Apr 19 20:10:14 2021\n",
      "Episode 100\tAverage Score: 0.05010                \n",
      "Episode 195\tAverage Score: 0.51670\tScore: 2.60000\n",
      "Environment solved in 195 episodes!\tAverage Score: 0.51670\n",
      "\n",
      "Training end time:\t Mon Apr 19 20:46:11 2021\n"
     ]
    }
   ],
   "source": [
    "scores = train(5000, 5000, agents, [actor_file_name, critic_file_name],\n",
    "                      benchmark_score, rolling_episodes)"
   ]
  },
  {
   "cell_type": "markdown",
   "metadata": {},
   "source": [
    "### Plot scores"
   ]
  },
  {
   "cell_type": "code",
   "execution_count": 18,
   "metadata": {},
   "outputs": [
    {
     "data": {
      "image/png": "[encoded data removed]",
      "text/plain": [
       "<Figure size 432x288 with 1 Axes>"
      ]
     },
     "metadata": {
      "needs_background": "light"
     },
     "output_type": "display_data"
    }
   ],
   "source": [
    "plot_scores(scores, benchmark_score, rolling_episodes)"
   ]
  },
  {
   "cell_type": "markdown",
   "metadata": {},
   "source": [
    "### Test"
   ]
  },
  {
   "cell_type": "code",
   "execution_count": 19,
   "metadata": {
    "scrolled": false
   },
   "outputs": [
    {
     "name": "stdout",
     "output_type": "stream",
     "text": [
      "Agent\n",
      "       actor_units [512, 256]\n",
      "       critic_units [512, 256]\n",
      "       lr_actor 0.0007\n",
      "       lr_critic 0.003\n",
      "       gamma 0.99\n",
      "       tau 0.15\n",
      "       update_every 1\n",
      "       seed 0\n",
      "       weight_decay 0\n",
      "       noise_theta 0.15\n",
      "       noise_sigma 0.01\n",
      "==========\n",
      "Agent\n",
      "       actor_units [512, 256]\n",
      "       critic_units [512, 256]\n",
      "       lr_actor 0.0007\n",
      "       lr_critic 0.003\n",
      "       gamma 0.99\n",
      "       tau 0.15\n",
      "       update_every 1\n",
      "       seed 0\n",
      "       weight_decay 0\n",
      "       noise_theta 0.15\n",
      "       noise_sigma 0.01\n",
      "==========\n",
      "Score(max): 2.60000\n"
     ]
    }
   ],
   "source": [
    "agents = [Agent(state_size, action_size, memory, torch_device, parameters)\n",
    "                 for _ in range(num_agents)]\n",
    "\n",
    "for i, agent in enumerate(agents):\n",
    "    agent.load_actor_weights(actor_file_name + str(i) + '.pth')\n",
    "    agent.load_critic_weights(critic_file_name + '.pth')\n",
    "\n",
    "test(agents)"
   ]
  },
  {
   "cell_type": "markdown",
   "metadata": {},
   "source": [
    "#### Close"
   ]
  },
  {
   "cell_type": "code",
   "execution_count": 20,
   "metadata": {},
   "outputs": [],
   "source": [
    "env.close()"
   ]
  },
  {
   "cell_type": "markdown",
   "metadata": {},
   "source": [
    "#### Save scores to file"
   ]
  },
  {
   "cell_type": "code",
   "execution_count": 21,
   "metadata": {},
   "outputs": [],
   "source": [
    "with open('scores.txt', 'w') as filehandle:\n",
    "    filehandle.writelines(\"%s\\n\" % score for score in scores)"
   ]
  },
  {
   "cell_type": "code",
   "execution_count": null,
   "metadata": {},
   "outputs": [],
   "source": []
  }
 ],
 "metadata": {
  "kernelspec": {
   "display_name": "drlnd",
   "language": "python",
   "name": "drlnd"
  },
  "language_info": {
   "codemirror_mode": {
    "name": "ipython",
    "version": 3
   },
   "file_extension": ".py",
   "mimetype": "text/x-python",
   "name": "python",
   "nbconvert_exporter": "python",
   "pygments_lexer": "ipython3",
   "version": "3.6.12"
  }
 },
 "nbformat": 4,
 "nbformat_minor": 2
}
